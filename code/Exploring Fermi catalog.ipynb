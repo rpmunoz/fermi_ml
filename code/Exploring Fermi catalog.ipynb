{
 "cells": [
  {
   "cell_type": "code",
   "execution_count": 10,
   "metadata": {
    "collapsed": true
   },
   "outputs": [],
   "source": [
    "import numpy as np\n",
    "import pandas as pd\n",
    "from astropy.io import fits\n",
    "from astropy.table import Table"
   ]
  },
  {
   "cell_type": "code",
   "execution_count": 17,
   "metadata": {
    "collapsed": false
   },
   "outputs": [
    {
     "name": "stdout",
     "output_type": "stream",
     "text": [
      "('Number of sources: ', 3034)\n"
     ]
    }
   ],
   "source": [
    "data_file='../data/LAT_4year_PSC.fit'\n",
    "\n",
    "#Using Table from astropy\n",
    "data = Table.read(data_file)\n",
    "print(\"Number of sources: \", len(data))\n",
    "\n",
    "#Using fits from astropy\n",
    "#hdulist = fits.open('../data/LAT_4year_PSC.fit')\n",
    "#data = hdulist[1].data\n",
    "#cols = hdulist[1].columns"
   ]
  },
  {
   "cell_type": "code",
   "execution_count": 15,
   "metadata": {
    "collapsed": false
   },
   "outputs": [
    {
     "data": {
      "text/html": [
       "&lt;Table length=3034&gt;\n",
       "<table id=\"table4397553680\" class=\"table-striped table-bordered table-condensed\">\n",
       "<thead><tr><th>Source_Name</th><th>RAJ2000</th><th>DEJ2000</th><th>GLON</th><th>GLAT</th><th>Conf_68_SemiMajor</th><th>Conf_68_SemiMinor</th><th>Conf_68_PosAng</th><th>Conf_95_SemiMajor</th><th>Conf_95_SemiMinor</th><th>Conf_95_PosAng</th><th>ROI_num</th><th>Signif_Avg</th><th>Pivot_Energy</th><th>Flux_Density</th><th>Unc_Flux_Density</th><th>Flux1000</th><th>Unc_Flux1000</th><th>Energy_Flux100</th><th>Unc_Energy_Flux100</th><th>Signif_Curve</th><th>SpectrumType</th><th>Spectral_Index</th><th>Unc_Spectral_Index</th><th>beta</th><th>Unc_beta</th><th>Cutoff</th><th>Unc_Cutoff</th><th>Exp_Index</th><th>Unc_Exp_Index</th><th>PowerLaw_Index</th><th>Flux30_100</th><th>Unc_Flux30_100</th><th>nuFnu30_100</th><th>Sqrt_TS30_100</th><th>Flux100_300</th><th>Unc_Flux100_300 [2]</th><th>nuFnu100_300</th><th>Sqrt_TS100_300</th><th>Flux300_1000</th><th>Unc_Flux300_1000 [2]</th><th>nuFnu300_1000</th><th>Sqrt_TS300_1000</th><th>Flux1000_3000</th><th>Unc_Flux1000_3000 [2]</th><th>nuFnu1000_3000</th><th>Sqrt_TS1000_3000</th><th>Flux3000_10000</th><th>Unc_Flux3000_10000 [2]</th><th>nuFnu3000_10000</th><th>Sqrt_TS3000_10000</th><th>Flux10000_100000</th><th>Unc_Flux10000_100000 [2]</th><th>nuFnu10000_100000</th><th>Sqrt_TS10000_100000</th><th>Variability_Index</th><th>Signif_Peak</th><th>Flux_Peak</th><th>Unc_Flux_Peak</th><th>Time_Peak</th><th>Peak_Interval</th><th>Flux_History [48]</th><th>Unc_Flux_History [48,2]</th><th>Extended_Source_Name</th><th>0FGL_Name</th><th>1FGL_Name</th><th>2FGL_Name</th><th>1FHL_Name</th><th>ASSOC_GAM1</th><th>ASSOC_GAM2</th><th>ASSOC_GAM3</th><th>TEVCAT_FLAG</th><th>ASSOC_TEV</th><th>CLASS1</th><th>ASSOC1</th><th>ASSOC2</th><th>Flags</th></tr></thead>\n",
       "<thead><tr><th></th><th>deg</th><th>deg</th><th>deg</th><th>deg</th><th>deg</th><th>deg</th><th>deg</th><th>deg</th><th>deg</th><th>deg</th><th></th><th></th><th>MeV</th><th>ph / (cm2 MeV s)</th><th>ph / (cm2 MeV s)</th><th>ph / (cm2 s)</th><th>ph / (cm2 s)</th><th>erg / (cm2 s)</th><th>erg / (cm2 s)</th><th></th><th></th><th></th><th></th><th></th><th></th><th>MeV</th><th>MeV</th><th></th><th></th><th></th><th>ph / (cm2 s)</th><th>ph / (cm2 s)</th><th>erg / (cm2 s)</th><th></th><th>ph / (cm2 s)</th><th>ph / (cm2 s)</th><th>erg / (cm2 s)</th><th></th><th>ph / (cm2 s)</th><th>ph / (cm2 s)</th><th>erg / (cm2 s)</th><th></th><th>ph / (cm2 s)</th><th>ph / (cm2 s)</th><th>erg / (cm2 s)</th><th></th><th>ph / (cm2 s)</th><th>ph / (cm2 s)</th><th>erg / (cm2 s)</th><th></th><th>ph / (cm2 s)</th><th>ph / (cm2 s)</th><th>erg / (cm2 s)</th><th></th><th></th><th></th><th>ph / (cm2 s)</th><th>ph / (cm2 s)</th><th>s</th><th>s</th><th>ph / (cm2 s)</th><th>ph / (cm2 s)</th><th></th><th></th><th></th><th></th><th></th><th></th><th></th><th></th><th></th><th></th><th></th><th></th><th></th><th></th></tr></thead>\n",
       "<thead><tr><th>str18</th><th>float32</th><th>float32</th><th>float32</th><th>float32</th><th>float32</th><th>float32</th><th>float32</th><th>float32</th><th>float32</th><th>float32</th><th>int16</th><th>float32</th><th>float32</th><th>float32</th><th>float32</th><th>float32</th><th>float32</th><th>float32</th><th>float32</th><th>float32</th><th>str16</th><th>float32</th><th>float32</th><th>float32</th><th>float32</th><th>float32</th><th>float32</th><th>float32</th><th>float32</th><th>float32</th><th>float32</th><th>float32</th><th>float32</th><th>float32</th><th>float32</th><th>float32</th><th>float32</th><th>float32</th><th>float32</th><th>float32</th><th>float32</th><th>float32</th><th>float32</th><th>float32</th><th>float32</th><th>float32</th><th>float32</th><th>float32</th><th>float32</th><th>float32</th><th>float32</th><th>float32</th><th>float32</th><th>float32</th><th>float32</th><th>float32</th><th>float32</th><th>float32</th><th>float64</th><th>float32</th><th>float32</th><th>float32</th><th>str18</th><th>str17</th><th>str18</th><th>str18</th><th>str18</th><th>str15</th><th>str14</th><th>str15</th><th>str1</th><th>str21</th><th>str5</th><th>str26</th><th>str26</th><th>int16</th></tr></thead>\n",
       "<tr><td>3FGL J0000.1+6545</td><td>0.0377</td><td>65.7517</td><td>117.694</td><td>3.40296</td><td>0.0628445</td><td>0.0481047</td><td>41.03</td><td>0.1019</td><td>0.078</td><td>41.03</td><td>185</td><td>6.81313</td><td>1159.08</td><td>1.00534e-12</td><td>1.49106e-13</td><td>1.01596e-09</td><td>1.57592e-10</td><td>1.35695e-11</td><td>2.07317e-12</td><td>3.39662</td><td>PowerLaw</td><td>2.41096</td><td>0.0823208</td><td>-inf</td><td>-inf</td><td>-inf</td><td>-inf</td><td>-inf</td><td>-inf</td><td>2.41096</td><td>nan</td><td>nan</td><td>nan</td><td>nan</td><td>1.80832e-08</td><td>-8.39548e-09 .. 8.23604e-09</td><td>4.17529e-12</td><td>2.16875</td><td>6.94073e-09</td><td>-1.35281e-09 .. 1.36692e-09</td><td>4.54365e-12</td><td>5.26971</td><td>1.23665e-09</td><td>-2.25128e-10 .. 2.34347e-10</td><td>2.85534e-12</td><td>6.02224</td><td>5.78052e-11</td><td>-4.04457e-11 .. 4.8534e-11</td><td>3.78413e-13</td><td>1.50919</td><td>2.83963e-11</td><td>-1.48428e-11 .. 1.91547e-11</td><td>4.3172e-13</td><td>2.42117</td><td>40.7535</td><td>-inf</td><td>-inf</td><td>-inf</td><td>-inf</td><td>-inf</td><td>6.36157e-08 .. 0.0</td><td>-2.7777e-08 .. 2.09131e-08</td><td></td><td></td><td></td><td>2FGL J2359.6+6543c</td><td></td><td></td><td></td><td></td><td>N</td><td></td><td></td><td></td><td></td><td>4</td></tr>\n",
       "<tr><td>3FGL J0000.2-3738</td><td>0.0612</td><td>-37.6484</td><td>345.411</td><td>-74.9468</td><td>0.0450828</td><td>0.0416908</td><td>-88.55</td><td>0.0731</td><td>0.0676</td><td>-88.55</td><td>589</td><td>5.09129</td><td>3296.33</td><td>1.94198e-14</td><td>5.14746e-15</td><td>2.03866e-10</td><td>5.42253e-11</td><td>2.4051e-12</td><td>6.70439e-13</td><td>1.49646</td><td>PowerLaw</td><td>1.86673</td><td>0.179395</td><td>-inf</td><td>-inf</td><td>-inf</td><td>-inf</td><td>-inf</td><td>-inf</td><td>1.86673</td><td>nan</td><td>nan</td><td>nan</td><td>nan</td><td>9.87665e-11</td><td>nan .. 1.99881e-09</td><td>2.40485e-14</td><td>0.0</td><td>1.34249e-10</td><td>nan .. 2.66879e-10</td><td>9.36374e-14</td><td>0.554082</td><td>1.4509e-10</td><td>-5.80523e-11 .. 6.81547e-11</td><td>3.53278e-13</td><td>2.94116</td><td>7.45239e-11</td><td>-2.62381e-11 .. 3.19758e-11</td><td>5.19798e-13</td><td>4.1535</td><td>1.59073e-11</td><td>-9.25702e-12 .. 1.45214e-11</td><td>2.99165e-13</td><td>3.46909</td><td>44.8453</td><td>-inf</td><td>-inf</td><td>-inf</td><td>-inf</td><td>-inf</td><td>0.0 .. 1.39247e-09</td><td>nan .. 2.12322e-09</td><td></td><td></td><td></td><td></td><td></td><td></td><td></td><td></td><td>N</td><td></td><td></td><td></td><td></td><td>0</td></tr>\n",
       "<tr><td>3FGL J0001.0+6314</td><td>0.2535</td><td>63.244</td><td>117.293</td><td>0.925701</td><td>0.15264</td><td>0.098553</td><td>-65.32</td><td>0.2475</td><td>0.1598</td><td>-65.32</td><td>233</td><td>6.16392</td><td>472.156</td><td>8.62467e-12</td><td>1.23011e-12</td><td>6.40368e-10</td><td>1.29086e-10</td><td>1.30285e-11</td><td>1.88592e-12</td><td>0.256419</td><td>PowerLaw</td><td>2.73279</td><td>0.107547</td><td>-inf</td><td>-inf</td><td>-inf</td><td>-inf</td><td>-inf</td><td>-inf</td><td>2.73279</td><td>nan</td><td>nan</td><td>nan</td><td>nan</td><td>2.91303e-08</td><td>-7.12145e-09 .. 7.43679e-09</td><td>6.52641e-12</td><td>3.97359</td><td>4.65079e-09</td><td>-1.11712e-09 .. 1.12937e-09</td><td>2.93786e-12</td><td>4.25003</td><td>3.02088e-10</td><td>-1.76409e-10 .. 1.8435e-10</td><td>6.76803e-13</td><td>1.74754</td><td>1.15866e-10</td><td>-4.21925e-11 .. 4.79e-11</td><td>7.31914e-13</td><td>3.27476</td><td>2.02196e-12</td><td>nan .. 1.25072e-11</td><td>2.76184e-14</td><td>0.361819</td><td>53.0479</td><td>-inf</td><td>-inf</td><td>-inf</td><td>-inf</td><td>-inf</td><td>1.07086e-07 .. 3.10041e-08</td><td>-3.7109e-08 .. 3.24663e-08</td><td></td><td></td><td></td><td>2FGL J2358.9+6325</td><td></td><td></td><td></td><td></td><td>N</td><td></td><td>spp</td><td></td><td></td><td>28</td></tr>\n",
       "<tr><td>3FGL J0001.2-0748</td><td>0.3209</td><td>-7.8159</td><td>89.0222</td><td>-67.3242</td><td>0.050325</td><td>0.0429242</td><td>-19.47</td><td>0.0816</td><td>0.0696</td><td>-19.47</td><td>323</td><td>11.2532</td><td>1263.84</td><td>4.85389e-13</td><td>5.70038e-14</td><td>6.95219e-10</td><td>8.96015e-11</td><td>7.81771e-12</td><td>9.45573e-13</td><td>1.90024</td><td>PowerLaw</td><td>2.14935</td><td>0.0867803</td><td>-inf</td><td>-inf</td><td>-inf</td><td>-inf</td><td>-inf</td><td>-inf</td><td>2.14935</td><td>nan</td><td>nan</td><td>nan</td><td>nan</td><td>4.08694e-09</td><td>-2.56453e-09 .. 2.62848e-09</td><td>9.6779e-13</td><td>1.6303</td><td>2.08357e-09</td><td>-4.33476e-10 .. 4.5033e-10</td><td>1.40566e-12</td><td>5.26586</td><td>5.2233e-10</td><td>-1.00276e-10 .. 1.08883e-10</td><td>1.23688e-12</td><td>6.99718</td><td>2.10689e-10</td><td>-4.45142e-11 .. 5.07333e-11</td><td>1.42139e-12</td><td>8.01772</td><td>1.00563e-11</td><td>-7.91652e-12 .. 1.45115e-11</td><td>1.68628e-13</td><td>1.57441</td><td>49.7382</td><td>-inf</td><td>-inf</td><td>-inf</td><td>-inf</td><td>-inf</td><td>2.96732e-09 .. 5.43133e-09</td><td>nan .. 9.38854e-09</td><td></td><td></td><td>1FGL J0000.9-0745</td><td>2FGL J0000.9-0748</td><td></td><td></td><td></td><td></td><td>N</td><td></td><td>bll</td><td>PMN J0001-0746</td><td></td><td>0</td></tr>\n",
       "<tr><td>3FGL J0001.4+2120</td><td>0.3612</td><td>21.3379</td><td>107.665</td><td>-40.0472</td><td>0.129821</td><td>0.116191</td><td>-32.55</td><td>0.2105</td><td>0.1884</td><td>-32.55</td><td>326</td><td>11.35</td><td>310.682</td><td>2.5221e-11</td><td>2.79714e-12</td><td>2.94487e-10</td><td>7.57546e-11</td><td>8.06508e-12</td><td>8.37897e-13</td><td>4.41358</td><td>LogParabola</td><td>2.30511</td><td>0.180119</td><td>0.519145</td><td>0.155084</td><td>-inf</td><td>-inf</td><td>-inf</td><td>-inf</td><td>2.77745</td><td>nan</td><td>nan</td><td>nan</td><td>nan</td><td>1.52391e-08</td><td>-2.37804e-09 .. 2.38993e-09</td><td>3.77326e-12</td><td>6.78771</td><td>3.63964e-09</td><td>-5.31059e-10 .. 5.44955e-10</td><td>2.25995e-12</td><td>7.59118</td><td>3.56521e-10</td><td>-9.3411e-11 .. 1.0178e-10</td><td>7.15262e-13</td><td>4.51685</td><td>8.41389e-15</td><td>nan .. 1.92409e-11</td><td>4.39248e-17</td><td>0.0</td><td>1.03554e-14</td><td>nan .. 1.12571e-11</td><td>9.59452e-17</td><td>0.0</td><td>130.336</td><td>8.24834</td><td>1.15934e-07</td><td>1.85747e-08</td><td>301135008.0</td><td>2.63e+06</td><td>2.51296e-08 .. 1.43141e-08</td><td>-1.18997e-08 .. 1.50753e-08</td><td></td><td></td><td></td><td></td><td></td><td></td><td>3EG J2359+2041</td><td></td><td>N</td><td></td><td>fsrq</td><td>TXS 2358+209</td><td></td><td>0</td></tr>\n",
       "<tr><td>3FGL J0001.6+3535</td><td>0.4043</td><td>35.5905</td><td>111.661</td><td>-26.1885</td><td>0.131178</td><td>0.103117</td><td>8.3</td><td>0.2127</td><td>0.1672</td><td>8.3</td><td>282</td><td>4.19956</td><td>1104.26</td><td>2.87282e-13</td><td>6.61687e-14</td><td>2.6812e-10</td><td>6.93039e-11</td><td>3.38575e-12</td><td>7.92219e-13</td><td>0.146794</td><td>PowerLaw</td><td>2.35052</td><td>0.185889</td><td>-inf</td><td>-inf</td><td>-inf</td><td>-inf</td><td>-inf</td><td>-inf</td><td>2.35052</td><td>nan</td><td>nan</td><td>nan</td><td>nan</td><td>9.51111e-09</td><td>-2.70045e-09 .. 2.7298e-09</td><td>2.20879e-12</td><td>3.60211</td><td>3.83922e-10</td><td>nan .. 4.05745e-10</td><td>2.53063e-13</td><td>0.895384</td><td>1.74846e-10</td><td>-7.93341e-11 .. 8.74973e-11</td><td>4.0605e-13</td><td>2.46144</td><td>4.02146e-11</td><td>-2.3464e-11 .. 3.09456e-11</td><td>2.65076e-13</td><td>2.03759</td><td>2.2558e-11</td><td>-1.33105e-11 .. 1.88709e-11</td><td>3.50524e-13</td><td>2.29224</td><td>32.3943</td><td>-inf</td><td>-inf</td><td>-inf</td><td>-inf</td><td>-inf</td><td>0.0 .. 1.66766e-08</td><td>nan .. 1.20555e-08</td><td></td><td></td><td></td><td></td><td></td><td></td><td></td><td></td><td>N</td><td></td><td></td><td></td><td></td><td>8</td></tr>\n",
       "<tr><td>3FGL J0002.0-6722</td><td>0.524</td><td>-67.3703</td><td>310.139</td><td>-49.0618</td><td>0.0626595</td><td>0.0529769</td><td>69.46</td><td>0.1016</td><td>0.0859</td><td>69.46</td><td>575</td><td>5.88876</td><td>2466.72</td><td>4.82968e-14</td><td>1.05025e-14</td><td>2.92117e-10</td><td>6.36624e-11</td><td>3.31503e-12</td><td>7.6072e-13</td><td>1.3687</td><td>PowerLaw</td><td>1.94606</td><td>0.158511</td><td>-inf</td><td>-inf</td><td>-inf</td><td>-inf</td><td>-inf</td><td>-inf</td><td>1.94606</td><td>nan</td><td>nan</td><td>nan</td><td>nan</td><td>5.39966e-10</td><td>nan .. 2.78898e-09</td><td>1.30446e-13</td><td>0.193791</td><td>6.48755e-10</td><td>-3.29326e-10 .. 3.4911e-10</td><td>4.48261e-13</td><td>2.0394</td><td>2.03325e-10</td><td>-6.85935e-11 .. 7.60786e-11</td><td>4.91196e-13</td><td>3.44514</td><td>8.25954e-11</td><td>-2.66333e-11 .. 3.17707e-11</td><td>5.70697e-13</td><td>4.7738</td><td>2.76824e-11</td><td>-1.40298e-11 .. 1.9058e-11</td><td>5.03735e-13</td><td>3.0557</td><td>46.125</td><td>-inf</td><td>-inf</td><td>-inf</td><td>-inf</td><td>-inf</td><td>9.84734e-09 .. 5.61077e-09</td><td>-5.08305e-09 .. 4.44949e-09</td><td></td><td></td><td></td><td></td><td></td><td></td><td></td><td></td><td>N</td><td></td><td></td><td></td><td></td><td>0</td></tr>\n",
       "<tr><td>3FGL J0002.2-4152</td><td>0.5621</td><td>-41.8828</td><td>334.07</td><td>-72.1427</td><td>0.133706</td><td>0.0860335</td><td>68.13</td><td>0.2168</td><td>0.1395</td><td>68.13</td><td>589</td><td>5.15841</td><td>1956.04</td><td>7.32396e-14</td><td>1.61888e-14</td><td>2.71403e-10</td><td>6.10046e-11</td><td>3.01827e-12</td><td>6.71225e-13</td><td>0.200273</td><td>PowerLaw</td><td>2.08892</td><td>0.18958</td><td>-inf</td><td>-inf</td><td>-inf</td><td>-inf</td><td>-inf</td><td>-inf</td><td>2.08892</td><td>nan</td><td>nan</td><td>nan</td><td>nan</td><td>5.31076e-09</td><td>-2.19606e-09 .. 2.17461e-09</td><td>1.26505e-12</td><td>2.47492</td><td>5.65955e-10</td><td>-2.83615e-10 .. 3.07021e-10</td><td>3.84521e-13</td><td>2.06046</td><td>8.52914e-11</td><td>-5.87602e-11 .. 7.04497e-11</td><td>2.03168e-13</td><td>1.5133</td><td>9.76305e-11</td><td>-3.06672e-11 .. 3.64834e-11</td><td>6.63321e-13</td><td>4.73487</td><td>2.59036e-11</td><td>-1.4005e-11 .. 1.94418e-11</td><td>4.44844e-13</td><td>2.58406</td><td>56.3511</td><td>-inf</td><td>-inf</td><td>-inf</td><td>-inf</td><td>-inf</td><td>9.73358e-09 .. 0.0</td><td>-6.12339e-09 .. 6.41984e-09</td><td></td><td></td><td>1FGL J0001.9-4158</td><td>2FGL J0001.7-4159</td><td></td><td></td><td></td><td></td><td>N</td><td></td><td>bcu</td><td>1RXS J000135.5-415519</td><td></td><td>0</td></tr>\n",
       "<tr><td>3FGL J0002.6+6218</td><td>0.6745</td><td>62.3006</td><td>117.302</td><td>-0.0371162</td><td>0.0374353</td><td>0.0332416</td><td>-55.45</td><td>0.0607</td><td>0.0539</td><td>-55.45</td><td>233</td><td>17.9719</td><td>1011.57</td><td>4.30331e-12</td><td>3.30359e-13</td><td>2.84488e-09</td><td>2.10839e-10</td><td>1.83838e-11</td><td>1.71746e-12</td><td>7.24275</td><td>LogParabola</td><td>2.08626</td><td>0.11109</td><td>0.450062</td><td>0.0923919</td><td>-inf</td><td>-inf</td><td>-inf</td><td>-inf</td><td>2.34749</td><td>nan</td><td>nan</td><td>nan</td><td>nan</td><td>1.05463e-08</td><td>-3.96417e-09 .. 3.97919e-09</td><td>2.93906e-12</td><td>2.59389</td><td>7.95137e-09</td><td>-9.20442e-10 .. 9.35456e-10</td><td>5.77129e-12</td><td>9.40642</td><td>2.4424e-09</td><td>-2.29171e-10 .. 2.29171e-10</td><td>5.55503e-12</td><td>13.3352</td><td>3.58366e-10</td><td>-6.44765e-11 .. 6.94979e-11</td><td>2.07536e-12</td><td>7.39369</td><td>4.08871e-15</td><td>nan .. 1.48142e-11</td><td>3.78829e-17</td><td>0.0</td><td>48.0235</td><td>-inf</td><td>-inf</td><td>-inf</td><td>-inf</td><td>-inf</td><td>1.70894e-08 .. 1.9215e-08</td><td>-9.26997e-09 .. 9.5864e-09</td><td></td><td></td><td></td><td>2FGL J0002.7+6220</td><td></td><td></td><td></td><td></td><td>N</td><td></td><td></td><td></td><td></td><td>0</td></tr>\n",
       "<tr><td>...</td><td>...</td><td>...</td><td>...</td><td>...</td><td>...</td><td>...</td><td>...</td><td>...</td><td>...</td><td>...</td><td>...</td><td>...</td><td>...</td><td>...</td><td>...</td><td>...</td><td>...</td><td>...</td><td>...</td><td>...</td><td>...</td><td>...</td><td>...</td><td>...</td><td>...</td><td>...</td><td>...</td><td>...</td><td>...</td><td>...</td><td>...</td><td>...</td><td>...</td><td>...</td><td>...</td><td>...</td><td>...</td><td>...</td><td>...</td><td>...</td><td>...</td><td>...</td><td>...</td><td>...</td><td>...</td><td>...</td><td>...</td><td>...</td><td>...</td><td>...</td><td>...</td><td>...</td><td>...</td><td>...</td><td>...</td><td>...</td><td>...</td><td>...</td><td>...</td><td>...</td><td>...</td><td>...</td><td>...</td><td>...</td><td>...</td><td>...</td><td>...</td><td>...</td><td>...</td><td>...</td><td>...</td><td>...</td><td>...</td><td>...</td><td>...</td><td>...</td></tr>\n",
       "<tr><td>3FGL J2357.4-1716</td><td>359.36</td><td>-17.27</td><td>68.4638</td><td>-74.103</td><td>0.0420608</td><td>0.0317615</td><td>-20.02</td><td>0.0682</td><td>0.0515</td><td>-20.02</td><td>749</td><td>8.63875</td><td>3977.76</td><td>2.77936e-14</td><td>5.14999e-15</td><td>4.06892e-10</td><td>7.66323e-11</td><td>5.0202e-12</td><td>9.97098e-13</td><td>0.357078</td><td>PowerLaw</td><td>1.80251</td><td>0.134308</td><td>-inf</td><td>-inf</td><td>-inf</td><td>-inf</td><td>-inf</td><td>-inf</td><td>1.80251</td><td>nan</td><td>nan</td><td>nan</td><td>nan</td><td>2.90615e-09</td><td>nan .. 2.62299e-09</td><td>7.12148e-13</td><td>0.807816</td><td>5.46089e-10</td><td>-3.65578e-10 .. 3.80988e-10</td><td>3.83818e-13</td><td>1.53057</td><td>2.46843e-10</td><td>-7.6719e-11 .. 8.4861e-11</td><td>6.04885e-13</td><td>3.91102</td><td>1.11705e-10</td><td>-3.1818e-11 .. 3.80676e-11</td><td>7.8512e-13</td><td>5.82457</td><td>5.47236e-11</td><td>-1.98235e-11 .. 2.5933e-11</td><td>1.05737e-12</td><td>5.79344</td><td>44.0768</td><td>-inf</td><td>-inf</td><td>-inf</td><td>-inf</td><td>-inf</td><td>6.30507e-09 .. 4.34666e-09</td><td>-3.10774e-09 .. 3.84798e-09</td><td></td><td></td><td></td><td></td><td></td><td></td><td></td><td></td><td>N</td><td></td><td>bll</td><td>RBS 2066</td><td></td><td>0</td></tr>\n",
       "<tr><td>3FGL J2357.8-5310</td><td>359.451</td><td>-53.1782</td><td>320.217</td><td>-62.1132</td><td>0.047858</td><td>0.0423692</td><td>-54.28</td><td>0.0776</td><td>0.0687</td><td>-54.28</td><td>748</td><td>12.3273</td><td>838.027</td><td>1.89021e-12</td><td>1.83631e-13</td><td>8.40816e-10</td><td>9.5416e-11</td><td>1.17676e-11</td><td>1.15945e-12</td><td>3.04542</td><td>PowerLaw</td><td>2.45547</td><td>0.0684467</td><td>-inf</td><td>-inf</td><td>-inf</td><td>-inf</td><td>-inf</td><td>-inf</td><td>2.45547</td><td>nan</td><td>nan</td><td>nan</td><td>nan</td><td>8.30047e-09</td><td>-8.02404e-09 .. 7.96922e-09</td><td>1.90842e-12</td><td>1.03361</td><td>5.21248e-09</td><td>-6.2563e-10 .. 6.38123e-10</td><td>3.39515e-12</td><td>8.80268</td><td>7.01457e-10</td><td>-1.13456e-10 .. 1.24228e-10</td><td>1.61277e-12</td><td>7.9743</td><td>8.59358e-11</td><td>-2.74963e-11 .. 3.27272e-11</td><td>5.59742e-13</td><td>4.8472</td><td>1.06244e-11</td><td>-8.36192e-12 .. 1.45091e-11</td><td>1.59005e-13</td><td>1.54134</td><td>164.206</td><td>5.3835</td><td>9.30323e-08</td><td>2.1871e-08</td><td>314284992.0</td><td>2.63e+06</td><td>0.0 .. 0.0</td><td>nan .. 8.48968e-09</td><td></td><td></td><td></td><td></td><td></td><td></td><td></td><td></td><td>N</td><td></td><td>fsrq</td><td>PKS 2355-534</td><td></td><td>0</td></tr>\n",
       "<tr><td>3FGL J2358.0-4552</td><td>359.506</td><td>-45.8732</td><td>328.916</td><td>-68.4668</td><td>0.107311</td><td>0.0773993</td><td>-27.05</td><td>0.174</td><td>0.1255</td><td>-27.05</td><td>435</td><td>7.56735</td><td>586.872</td><td>1.86941e-12</td><td>2.72102e-13</td><td>2.8653e-10</td><td>6.04186e-11</td><td>4.91218e-12</td><td>7.32969e-13</td><td>0.228575</td><td>PowerLaw</td><td>2.61711</td><td>0.132943</td><td>-inf</td><td>-inf</td><td>-inf</td><td>-inf</td><td>-inf</td><td>-inf</td><td>2.61711</td><td>nan</td><td>nan</td><td>nan</td><td>nan</td><td>1.09679e-08</td><td>-2.77557e-09 .. 2.77622e-09</td><td>2.48367e-12</td><td>4.07841</td><td>1.81021e-09</td><td>-3.89519e-10 .. 4.08166e-10</td><td>1.15803e-12</td><td>5.06162</td><td>1.6818e-10</td><td>-6.11594e-11 .. 6.98453e-11</td><td>3.80843e-13</td><td>3.30755</td><td>3.56424e-11</td><td>-2.20168e-11 .. 2.85767e-11</td><td>2.28012e-13</td><td>1.85982</td><td>3.01152e-11</td><td>-1.41252e-11 .. 1.91949e-11</td><td>4.26723e-13</td><td>3.29412</td><td>70.5313</td><td>-inf</td><td>-inf</td><td>-inf</td><td>-inf</td><td>-inf</td><td>3.74755e-09 .. 6.05734e-10</td><td>nan .. 1.36041e-08</td><td></td><td></td><td></td><td></td><td></td><td></td><td></td><td></td><td>N</td><td></td><td>fsrq</td><td>PKS 2355-461</td><td></td><td>0</td></tr>\n",
       "<tr><td>3FGL J2358.2-1022</td><td>359.55</td><td>-10.3699</td><td>83.5948</td><td>-69.0699</td><td>0.155847</td><td>0.13124</td><td>58.86</td><td>0.2527</td><td>0.2128</td><td>58.86</td><td>647</td><td>6.3576</td><td>368.789</td><td>6.6466e-12</td><td>1.03362e-12</td><td>2.27488e-10</td><td>5.83913e-11</td><td>5.12152e-12</td><td>7.97965e-13</td><td>3.17904</td><td>PowerLaw</td><td>2.79628</td><td>0.131606</td><td>-inf</td><td>-inf</td><td>-inf</td><td>-inf</td><td>-inf</td><td>-inf</td><td>2.79628</td><td>nan</td><td>nan</td><td>nan</td><td>nan</td><td>1.24942e-08</td><td>-2.86442e-09 .. 2.93984e-09</td><td>2.78305e-12</td><td>4.16746</td><td>2.34458e-09</td><td>-4.57898e-10 .. 4.77012e-10</td><td>1.47097e-12</td><td>5.62378</td><td>1.47238e-10</td><td>-7.01756e-11 .. 8.03852e-11</td><td>3.2797e-13</td><td>2.34252</td><td>6.81656e-13</td><td>nan .. 2.06959e-11</td><td>4.27663e-15</td><td>0.0</td><td>4.4517e-12</td><td>nan .. 1.87247e-11</td><td>5.96465e-14</td><td>0.487996</td><td>68.613</td><td>-inf</td><td>-inf</td><td>-inf</td><td>-inf</td><td>-inf</td><td>0.0 .. 2.81366e-08</td><td>nan .. 1.64294e-08</td><td></td><td></td><td></td><td></td><td></td><td></td><td></td><td></td><td>N</td><td></td><td>fsrq</td><td>PKS 2355-106</td><td></td><td>0</td></tr>\n",
       "<tr><td>3FGL J2358.3-2853</td><td>359.598</td><td>-28.891</td><td>21.2832</td><td>-78.1667</td><td>0.0764125</td><td>0.0673466</td><td>-39.28</td><td>0.1239</td><td>0.1092</td><td>-39.28</td><td>528</td><td>6.23421</td><td>969.997</td><td>4.39552e-13</td><td>7.97903e-14</td><td>2.88491e-10</td><td>6.21295e-11</td><td>3.86501e-12</td><td>7.2176e-13</td><td>0.0</td><td>PowerLaw</td><td>2.41401</td><td>0.158758</td><td>-inf</td><td>-inf</td><td>-inf</td><td>-inf</td><td>-inf</td><td>-inf</td><td>2.41401</td><td>nan</td><td>nan</td><td>nan</td><td>nan</td><td>4.34384e-09</td><td>-2.81984e-09 .. 2.85013e-09</td><td>1.00267e-12</td><td>1.53615</td><td>1.45913e-09</td><td>-3.8368e-10 .. 4.00789e-10</td><td>9.54866e-13</td><td>4.12605</td><td>1.32247e-10</td><td>-6.31541e-11 .. 7.32169e-11</td><td>3.0526e-13</td><td>2.3505</td><td>8.74745e-11</td><td>-2.76745e-11 .. 3.36989e-11</td><td>5.72441e-13</td><td>5.04636</td><td>2.30175e-15</td><td>nan .. 1.33286e-11</td><td>3.49564e-17</td><td>0.0</td><td>45.9339</td><td>-inf</td><td>-inf</td><td>-inf</td><td>-inf</td><td>-inf</td><td>4.56261e-09 .. 3.87267e-09</td><td>-3.90731e-09 .. 1.02079e-08</td><td></td><td></td><td></td><td></td><td></td><td></td><td></td><td></td><td>N</td><td></td><td>bcu</td><td>PMN J2358-2853</td><td></td><td>0</td></tr>\n",
       "<tr><td>3FGL J2358.5+3827</td><td>359.634</td><td>38.4539</td><td>111.687</td><td>-23.26</td><td>0.0622278</td><td>0.0460695</td><td>79.94</td><td>0.1009</td><td>0.0747</td><td>79.94</td><td>254</td><td>5.8921</td><td>2814.47</td><td>4.81441e-14</td><td>1.02477e-14</td><td>3.80887e-10</td><td>8.15189e-11</td><td>4.23254e-12</td><td>9.10521e-13</td><td>0.681317</td><td>PowerLaw</td><td>2.07764</td><td>0.163357</td><td>-inf</td><td>-inf</td><td>-inf</td><td>-inf</td><td>-inf</td><td>-inf</td><td>2.07764</td><td>nan</td><td>nan</td><td>nan</td><td>nan</td><td>2.92017e-12</td><td>nan .. 3.73097e-09</td><td>6.9637e-16</td><td>0.0</td><td>1.07296e-09</td><td>-5.34492e-10 .. 5.61048e-10</td><td>7.29953e-13</td><td>2.04783</td><td>2.97956e-10</td><td>-9.19433e-11 .. 9.84639e-11</td><td>7.10531e-13</td><td>3.87329</td><td>7.90826e-11</td><td>-2.89402e-11 .. 3.50852e-11</td><td>5.38014e-13</td><td>4.05137</td><td>3.48905e-11</td><td>-1.50831e-11 .. 2.12974e-11</td><td>6.01876e-13</td><td>3.4349</td><td>52.3109</td><td>-inf</td><td>-inf</td><td>-inf</td><td>-inf</td><td>-inf</td><td>1.24627e-08 .. 2.10306e-08</td><td>-7.60633e-09 .. 1.11687e-08</td><td></td><td></td><td></td><td></td><td></td><td></td><td></td><td></td><td>N</td><td></td><td></td><td></td><td></td><td>0</td></tr>\n",
       "<tr><td>3FGL J2358.6-1809</td><td>359.666</td><td>-18.1585</td><td>66.6036</td><td>-74.895</td><td>0.0445277</td><td>0.0394089</td><td>19.88</td><td>0.0722</td><td>0.0639</td><td>19.88</td><td>749</td><td>6.51344</td><td>3925.48</td><td>2.10284e-14</td><td>4.72186e-15</td><td>3.01644e-10</td><td>6.87523e-11</td><td>3.68154e-12</td><td>8.73637e-13</td><td>1.91151</td><td>PowerLaw</td><td>1.81666</td><td>0.155363</td><td>-inf</td><td>-inf</td><td>-inf</td><td>-inf</td><td>-inf</td><td>-inf</td><td>1.81666</td><td>nan</td><td>nan</td><td>nan</td><td>nan</td><td>1.47774e-09</td><td>nan .. 2.80744e-09</td><td>3.61608e-13</td><td>0.312918</td><td>1.92069e-10</td><td>nan .. 3.5499e-10</td><td>1.34768e-13</td><td>0.533754</td><td>1.82299e-10</td><td>-6.65723e-11 .. 7.6856e-11</td><td>4.46093e-13</td><td>3.34281</td><td>1.21227e-10</td><td>-3.52354e-11 .. 4.07592e-11</td><td>8.50608e-13</td><td>5.52871</td><td>3.12402e-11</td><td>-1.38723e-11 .. 1.95516e-11</td><td>6.00025e-13</td><td>4.1363</td><td>48.8026</td><td>-inf</td><td>-inf</td><td>-inf</td><td>-inf</td><td>-inf</td><td>5.32171e-09 .. 0.0</td><td>-3.17547e-09 .. 4.82938e-09</td><td></td><td></td><td>1FGL J2358.5-1809</td><td>2FGL J2358.4-1811</td><td></td><td></td><td></td><td></td><td>N</td><td></td><td></td><td></td><td></td><td>0</td></tr>\n",
       "<tr><td>3FGL J2358.9+3926</td><td>359.736</td><td>39.4476</td><td>112.008</td><td>-22.308</td><td>0.107866</td><td>0.0878836</td><td>10.36</td><td>0.1749</td><td>0.1425</td><td>10.36</td><td>254</td><td>4.68495</td><td>2167.58</td><td>7.45832e-14</td><td>1.72538e-14</td><td>3.39505e-10</td><td>7.85489e-11</td><td>3.90215e-12</td><td>9.48233e-13</td><td>0.0677313</td><td>PowerLaw</td><td>2.20847</td><td>0.175482</td><td>-inf</td><td>-inf</td><td>-inf</td><td>-inf</td><td>-inf</td><td>-inf</td><td>2.20847</td><td>nan</td><td>nan</td><td>nan</td><td>nan</td><td>3.59709e-09</td><td>nan .. 3.35273e-09</td><td>8.469e-13</td><td>0.770458</td><td>1.00062e-09</td><td>-5.56649e-10 .. 5.68886e-10</td><td>6.70433e-13</td><td>1.83698</td><td>3.10697e-10</td><td>-9.81316e-11 .. 1.03962e-10</td><td>7.31506e-13</td><td>3.68715</td><td>2.75251e-12</td><td>nan .. 2.49447e-11</td><td>1.84423e-14</td><td>0.14547</td><td>4.88937e-11</td><td>-1.85216e-11 .. 2.34161e-11</td><td>8.0129e-13</td><td>4.2066</td><td>52.8528</td><td>-inf</td><td>-inf</td><td>-inf</td><td>-inf</td><td>-inf</td><td>1.7757e-08 .. 0.0</td><td>-9.4308e-09 .. 1.28389e-08</td><td></td><td></td><td></td><td></td><td></td><td></td><td></td><td></td><td>N</td><td></td><td>fsrq</td><td>B2 2356+39</td><td></td><td>0</td></tr>\n",
       "<tr><td>3FGL J2359.3-3038</td><td>359.829</td><td>-30.6465</td><td>12.7066</td><td>-78.0699</td><td>0.0334883</td><td>0.0313914</td><td>-6.68</td><td>0.0543</td><td>0.0509</td><td>-6.68</td><td>528</td><td>11.0552</td><td>2239.89</td><td>1.19993e-13</td><td>1.63014e-14</td><td>5.94324e-10</td><td>8.12196e-11</td><td>6.61874e-12</td><td>9.20705e-13</td><td>0.589384</td><td>PowerLaw</td><td>2.02159</td><td>0.115445</td><td>-inf</td><td>-inf</td><td>-inf</td><td>-inf</td><td>-inf</td><td>-inf</td><td>2.02159</td><td>nan</td><td>nan</td><td>nan</td><td>nan</td><td>7.70542e-09</td><td>-2.72305e-09 .. 2.81247e-09</td><td>1.84766e-12</td><td>2.22516</td><td>1.22959e-09</td><td>-3.87511e-10 .. 4.06067e-10</td><td>8.42043e-13</td><td>3.40155</td><td>4.37221e-10</td><td>-8.88994e-11 .. 9.72636e-11</td><td>1.0484e-12</td><td>6.60926</td><td>1.26795e-10</td><td>-3.31781e-11 .. 3.95038e-11</td><td>8.68316e-13</td><td>6.16205</td><td>5.57343e-11</td><td>-1.96111e-11 .. 2.51251e-11</td><td>9.83365e-13</td><td>6.00211</td><td>40.967</td><td>-inf</td><td>-inf</td><td>-inf</td><td>-inf</td><td>-inf</td><td>7.12002e-09 .. 1.05998e-08</td><td>-4.6192e-09 .. 6.91288e-09</td><td></td><td></td><td>1FGL J2359.0-3035</td><td>2FGL J2359.0-3037</td><td>1FHL J2359.2-3037</td><td></td><td></td><td></td><td>P</td><td>H 2356-309</td><td>bll</td><td>H 2356-309</td><td></td><td>0</td></tr>\n",
       "<tr><td>3FGL J2359.5-2052</td><td>359.881</td><td>-20.8826</td><td>57.9472</td><td>-76.612</td><td>0.0529152</td><td>0.0448978</td><td>-22.46</td><td>0.0858</td><td>0.0728</td><td>-22.46</td><td>751</td><td>6.93646</td><td>2371.26</td><td>6.05983e-14</td><td>1.19212e-14</td><td>3.36897e-10</td><td>6.63901e-11</td><td>3.75387e-12</td><td>7.49821e-13</td><td>0.13525</td><td>PowerLaw</td><td>2.01768</td><td>0.159069</td><td>-inf</td><td>-inf</td><td>-inf</td><td>-inf</td><td>-inf</td><td>-inf</td><td>2.01768</td><td>nan</td><td>nan</td><td>nan</td><td>nan</td><td>4.56861e-09</td><td>-2.24439e-09 .. 2.26348e-09</td><td>1.09591e-12</td><td>2.06944</td><td>5.62725e-10</td><td>-3.28491e-10 .. 3.51537e-10</td><td>3.85541e-13</td><td>1.75835</td><td>1.99355e-10</td><td>-6.82036e-11 .. 7.72998e-11</td><td>4.7821e-13</td><td>3.58266</td><td>5.91599e-11</td><td>-2.439e-11 .. 3.06304e-11</td><td>4.05324e-13</td><td>3.43885</td><td>5.45935e-11</td><td>-1.97745e-11 .. 2.50242e-11</td><td>9.64763e-13</td><td>5.36004</td><td>36.2925</td><td>-inf</td><td>-inf</td><td>-inf</td><td>-inf</td><td>-inf</td><td>3.11208e-09 .. 4.48716e-09</td><td>nan .. 4.84625e-09</td><td></td><td></td><td></td><td></td><td></td><td></td><td></td><td></td><td>N</td><td></td><td>bll</td><td>TXS 2356-210</td><td></td><td>0</td></tr>\n",
       "</table>"
      ],
      "text/plain": [
       "<Table length=3034>\n",
       "   Source_Name     RAJ2000 DEJ2000  ...           ASSOC2           Flags\n",
       "                     deg     deg    ...                                 \n",
       "      str18        float32 float32  ...           str26            int16\n",
       "------------------ ------- -------- ... -------------------------- -----\n",
       "3FGL J0000.1+6545   0.0377  65.7517 ...                                4\n",
       "3FGL J0000.2-3738   0.0612 -37.6484 ...                                0\n",
       "3FGL J0001.0+6314   0.2535   63.244 ...                               28\n",
       "3FGL J0001.2-0748   0.3209  -7.8159 ...                                0\n",
       "3FGL J0001.4+2120   0.3612  21.3379 ...                                0\n",
       "3FGL J0001.6+3535   0.4043  35.5905 ...                                8\n",
       "3FGL J0002.0-6722    0.524 -67.3703 ...                                0\n",
       "3FGL J0002.2-4152   0.5621 -41.8828 ...                                0\n",
       "3FGL J0002.6+6218   0.6745  62.3006 ...                                0\n",
       "               ...     ...      ... ...                        ...   ...\n",
       "3FGL J2357.4-1716   359.36   -17.27 ...                                0\n",
       "3FGL J2357.8-5310  359.451 -53.1782 ...                                0\n",
       "3FGL J2358.0-4552  359.506 -45.8732 ...                                0\n",
       "3FGL J2358.2-1022   359.55 -10.3699 ...                                0\n",
       "3FGL J2358.3-2853  359.598  -28.891 ...                                0\n",
       "3FGL J2358.5+3827  359.634  38.4539 ...                                0\n",
       "3FGL J2358.6-1809  359.666 -18.1585 ...                                0\n",
       "3FGL J2358.9+3926  359.736  39.4476 ...                                0\n",
       "3FGL J2359.3-3038  359.829 -30.6465 ...                                0\n",
       "3FGL J2359.5-2052  359.881 -20.8826 ...                                0"
      ]
     },
     "execution_count": 15,
     "metadata": {},
     "output_type": "execute_result"
    }
   ],
   "source": [
    "data"
   ]
  },
  {
   "cell_type": "code",
   "execution_count": 18,
   "metadata": {
    "collapsed": false
   },
   "outputs": [
    {
     "data": {
      "text/html": [
       "&lt;Column name=&apos;Source_Name&apos; dtype=&apos;str18&apos; length=3034&gt;\n",
       "<table>\n",
       "<tr><td>3FGL J0000.1+6545</td></tr>\n",
       "<tr><td>3FGL J0000.2-3738</td></tr>\n",
       "<tr><td>3FGL J0001.0+6314</td></tr>\n",
       "<tr><td>3FGL J0001.2-0748</td></tr>\n",
       "<tr><td>3FGL J0001.4+2120</td></tr>\n",
       "<tr><td>3FGL J0001.6+3535</td></tr>\n",
       "<tr><td>3FGL J0002.0-6722</td></tr>\n",
       "<tr><td>3FGL J0002.2-4152</td></tr>\n",
       "<tr><td>3FGL J0002.6+6218</td></tr>\n",
       "<tr><td>3FGL J0003.2-5246</td></tr>\n",
       "<tr><td>3FGL J0003.4+3100</td></tr>\n",
       "<tr><td>3FGL J0003.5+5721</td></tr>\n",
       "<tr><td>...</td></tr>\n",
       "<tr><td>3FGL J2356.9+6812</td></tr>\n",
       "<tr><td>3FGL J2357.3-0150</td></tr>\n",
       "<tr><td>3FGL J2357.4-1716</td></tr>\n",
       "<tr><td>3FGL J2357.8-5310</td></tr>\n",
       "<tr><td>3FGL J2358.0-4552</td></tr>\n",
       "<tr><td>3FGL J2358.2-1022</td></tr>\n",
       "<tr><td>3FGL J2358.3-2853</td></tr>\n",
       "<tr><td>3FGL J2358.5+3827</td></tr>\n",
       "<tr><td>3FGL J2358.6-1809</td></tr>\n",
       "<tr><td>3FGL J2358.9+3926</td></tr>\n",
       "<tr><td>3FGL J2359.3-3038</td></tr>\n",
       "<tr><td>3FGL J2359.5-2052</td></tr>\n",
       "</table>"
      ],
      "text/plain": [
       "<Column name='Source_Name' dtype='str18' length=3034>\n",
       "3FGL J0000.1+6545 \n",
       "3FGL J0000.2-3738 \n",
       "3FGL J0001.0+6314 \n",
       "3FGL J0001.2-0748 \n",
       "3FGL J0001.4+2120 \n",
       "3FGL J0001.6+3535 \n",
       "3FGL J0002.0-6722 \n",
       "3FGL J0002.2-4152 \n",
       "3FGL J0002.6+6218 \n",
       "3FGL J0003.2-5246 \n",
       "3FGL J0003.4+3100 \n",
       "3FGL J0003.5+5721 \n",
       "               ...\n",
       "3FGL J2356.9+6812 \n",
       "3FGL J2357.3-0150 \n",
       "3FGL J2357.4-1716 \n",
       "3FGL J2357.8-5310 \n",
       "3FGL J2358.0-4552 \n",
       "3FGL J2358.2-1022 \n",
       "3FGL J2358.3-2853 \n",
       "3FGL J2358.5+3827 \n",
       "3FGL J2358.6-1809 \n",
       "3FGL J2358.9+3926 \n",
       "3FGL J2359.3-3038 \n",
       "3FGL J2359.5-2052 "
      ]
     },
     "execution_count": 18,
     "metadata": {},
     "output_type": "execute_result"
    }
   ],
   "source": [
    "data['Source_Name']"
   ]
  },
  {
   "cell_type": "code",
   "execution_count": null,
   "metadata": {
    "collapsed": true
   },
   "outputs": [],
   "source": []
  }
 ],
 "metadata": {
  "kernelspec": {
   "display_name": "Python 2",
   "language": "python",
   "name": "python2"
  },
  "language_info": {
   "codemirror_mode": {
    "name": "ipython",
    "version": 2
   },
   "file_extension": ".py",
   "mimetype": "text/x-python",
   "name": "python",
   "nbconvert_exporter": "python",
   "pygments_lexer": "ipython2",
   "version": "2.7.12"
  }
 },
 "nbformat": 4,
 "nbformat_minor": 2
}
